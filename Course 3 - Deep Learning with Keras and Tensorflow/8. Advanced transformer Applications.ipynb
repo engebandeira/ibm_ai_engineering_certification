{
 "cells": [
  {
   "cell_type": "code",
   "execution_count": 1,
   "id": "d78df67c",
   "metadata": {},
   "outputs": [],
   "source": [
    "import tensorflow as tf\n",
    "from tensorflow.keras.layers import (Layer, \n",
    "                                     Dense,\n",
    "                                     LayerNormalization, \n",
    "                                     Dropout, \n",
    "                                     Input, \n",
    "                                     Flatten, \n",
    "                                     Conv1D, \n",
    "                                     BatchNormalization, \n",
    "                                     Reshape,\n",
    "                                     TimeDistributed)\n",
    "from tensorflow.keras.models import Model"
   ]
  },
  {
   "cell_type": "markdown",
   "id": "2082470e",
   "metadata": {},
   "source": [
    "# Vision transformer for image classification"
   ]
  },
  {
   "cell_type": "code",
   "execution_count": 2,
   "id": "4b85e28f",
   "metadata": {},
   "outputs": [],
   "source": [
    "# Define the TransformerBlock class\n",
    "class TransformerBlock(Layer):\n",
    "    def __init__(self, embed_dim, num_heads, ff_dim, rate=0.1):\n",
    "        super(TransformerBlock, self).__init__()\n",
    "\n",
    "        self.att = tf.keras.layers.MultiHeadAttention(num_heads=num_heads, key_dim=embed_dim)\n",
    "        self.ffn = tf.keras.Sequential([\n",
    "            Dense(ff_dim, activation=\"relu\"),\n",
    "            Dense(embed_dim),\n",
    "        ])\n",
    "\n",
    "        self.layernorm1 = LayerNormalization(epsilon=1e-6)\n",
    "        self.layernorm2 = LayerNormalization(epsilon=1e-6)\n",
    "        self.dropout1 = Dropout(rate)\n",
    "        self.dropout2 = Dropout(rate)\n",
    "\n",
    "    def call(self, inputs, training, mask=None):\n",
    "        attn_output = self.att(inputs, inputs, inputs, attention_mask=mask)\n",
    "        attn_output = self.dropout1(attn_output, training=training)\n",
    "        out1 = self.layernorm1(inputs + attn_output)\n",
    "        ffn_output = self.ffn(out1)\n",
    "        ffn_output = self.dropout2(ffn_output, training=training)\n",
    "        \n",
    "        return self.layernorm2(out1 + ffn_output)\n",
    "    \n",
    "# Define the PatchEmbedding layer\n",
    "class PatchEmbedding(Layer):\n",
    "    def __init__(self, num_patches, embedding_dim):\n",
    "        super(PatchEmbedding, self).__init__()\n",
    "        self.num_patches = num_patches\n",
    "        self.embedding_dim = embedding_dim\n",
    "        self.projection = Dense(embedding_dim)\n",
    "\n",
    "    def call(self, patches):\n",
    "        return self.projection(patches)\n",
    "    \n",
    "# Define the VisionTransformer model\n",
    "class VisionTransformer(tf.keras.Model):\n",
    "    def __init__(self, num_patches, embedding_dim, num_heads, ff_dim, num_layers, num_classes):\n",
    "        super(VisionTransformer, self).__init__()\n",
    "        self.patch_embed = PatchEmbedding(num_patches, embedding_dim)\n",
    "        self.transformer_layers = [TransformerBlock(embedding_dim, num_heads, ff_dim)\n",
    "                                   for _ in range(num_layers)]\n",
    "        self.flatten = Flatten()\n",
    "        self.dense = Dense(num_classes, activation='softmax')\n",
    "\n",
    "    def call(self, images, training):\n",
    "        patches = self.extract_patches(images)\n",
    "        x = self.patch_embed(patches)\n",
    "\n",
    "        for transformer_layer in self.transformer_layers:\n",
    "            x = transformer_layer(x, training=training)\n",
    "\n",
    "        x = self.flatten(x)\n",
    "        return self.dense(x)\n",
    "\n",
    "    def extract_patches(self, images):\n",
    "        batch_size = tf.shape(images)[0]\n",
    "        patches = tf.image.extract_patches(\n",
    "            images=images,\n",
    "            sizes=[1, 16, 16, 1],\n",
    "            strides=[1, 16, 16, 1],\n",
    "            rates=[1, 1, 1, 1],\n",
    "            padding='VALID')\n",
    "        \n",
    "        patches = tf.reshape(patches, [batch_size, -1, 16*16*3])\n",
    "        return patches"
   ]
  },
  {
   "cell_type": "code",
   "execution_count": 3,
   "id": "820153aa",
   "metadata": {},
   "outputs": [
    {
     "name": "stdout",
     "output_type": "stream",
     "text": [
      "(32, 10)\n"
     ]
    }
   ],
   "source": [
    "num_patches = 196 # assuming 14x14 patches\n",
    "embedding_dim = 128\n",
    "num_heads = 4\n",
    "ff_dim = 512\n",
    "num_layers = 6\n",
    "num_classes = 10 # For CIFAR-10 dataset\n",
    "\n",
    "vit = VisionTransformer(num_patches, embedding_dim, num_heads, ff_dim, num_layers, num_classes)\n",
    "images = tf.random.uniform((32, 224, 224, 3)) # Batch of 32 images of size 224x224\n",
    "output = vit(images,training=True)\n",
    "print(output.shape) # Should print (32, 10)"
   ]
  },
  {
   "cell_type": "markdown",
   "id": "5d128dc4",
   "metadata": {},
   "source": [
    "# Transformer in speech recognition"
   ]
  },
  {
   "cell_type": "code",
   "execution_count": 4,
   "id": "07b0e069",
   "metadata": {},
   "outputs": [],
   "source": [
    "# Define the SpeechTransformer model\n",
    "class SpeechTransformer(Model):\n",
    "    def __init__(self, num_mel_bins, embedding_dim, num_heads, ff_dim,\n",
    "                 num_layers, num_classes):\n",
    "        super(SpeechTransformer, self).__init__()\n",
    "        self.conv1 = Conv1D(filters=embedding_dim, kernel_size=3,\n",
    "                            strides=1, padding='same', activation='relu')\n",
    "        self.batch_norm = BatchNormalization()\n",
    "        self.reshape = Reshape((-1, embedding_dim))\n",
    "        self.transformer_layers = [TransformerBlock(embedding_dim,\n",
    "                                                    num_heads, ff_dim) for _ in range(num_layers)]\n",
    "        self.flatten = Flatten()\n",
    "        self.dense = Dense(num_classes, activation='softmax')\n",
    "\n",
    "    def call(self, spectograms, training):\n",
    "        x = self.conv1(spectograms)\n",
    "        x = self.batch_norm(x)\n",
    "        x = self.reshape(x)\n",
    "        for transformer_layer in self.transformer_layers:\n",
    "            x = transformer_layer(x,training=training)\n",
    "        x = self.flatten(x)\n",
    "\n",
    "        return self.dense(x)"
   ]
  },
  {
   "cell_type": "code",
   "execution_count": 5,
   "id": "ec3dfa67",
   "metadata": {},
   "outputs": [
    {
     "name": "stdout",
     "output_type": "stream",
     "text": [
      "(32, 30)\n"
     ]
    }
   ],
   "source": [
    "num_mel_bins = 80\n",
    "embedding_dim = 128\n",
    "num_heads = 4\n",
    "ff_dim = 512\n",
    "num_layers = 6\n",
    "num_classes = 30 # Example for phoneme classification\n",
    "\n",
    "# Initialize SpeechTransformer models\n",
    "\n",
    "st = SpeechTransformer(num_mel_bins, embedding_dim, num_heads, ff_dim, num_layers, num_classes) \n",
    "\n",
    "# generate example spectrograms\n",
    "spectograms = tf.random.uniform((32, 100, num_mel_bins)) # batch of 32 spectrograms with 100 time frames\n",
    "\n",
    "\n",
    "# get model predictions\n",
    "output = st(spectograms, training=True)\n",
    "print(output.shape)"
   ]
  },
  {
   "cell_type": "markdown",
   "id": "f9b7fac1",
   "metadata": {},
   "source": [
    "# Decision transformer for RL"
   ]
  },
  {
   "cell_type": "code",
   "execution_count": 8,
   "id": "83dec300",
   "metadata": {},
   "outputs": [],
   "source": [
    "class DecisionTransformer(Model):\n",
    "    def __init__(self, sttate_dim, action_dim, embedding_dim, num_heads, ff_dim, num_layers):\n",
    "        super(DecisionTransformer, self).__init__()\n",
    "        self.state_embed = Dense(embedding_dim, activation='relu')\n",
    "        self.action_embed = Dense(embedding_dim, activation='relu')\n",
    "        self.transformer_layers = [TransformerBlock(embedding_dim, num_heads, ff_dim) for _ in range (num_layers)]\n",
    "        self.dense = TimeDistributed(Dense(action_dim))\n",
    "\n",
    "    def call(self, states, actions, training):\n",
    "        state_embeddings = self.state_embed(states)\n",
    "        action_embeddings = self.action_embed(actions)\n",
    "        x = state_embeddings + action_embeddings\n",
    "        for transforme_layers in self.transformer_layers:\n",
    "            x = transforme_layers(x,training=training)\n",
    "        \n",
    "        return self.dense(x)"
   ]
  },
  {
   "cell_type": "code",
   "execution_count": 10,
   "id": "11b5185f",
   "metadata": {},
   "outputs": [
    {
     "name": "stdout",
     "output_type": "stream",
     "text": [
      "(32, 100, 5)\n"
     ]
    }
   ],
   "source": [
    "state_dim = 20\n",
    "action_dim = 5\n",
    "embedding_dim = 128\n",
    "num_heads = 4\n",
    "ff_dim = 512\n",
    "num_layers = 6\n",
    "\n",
    "# initialize DecisionTransformer model\n",
    "dt = DecisionTransformer(state_dim, action_dim, embedding_dim, num_heads, ff_dim, num_layers)\n",
    "\n",
    "# Generate example states and actions\n",
    "states = tf.random.uniform((32, 100, state_dim))\n",
    "\n",
    "# Batch of 32 sequences of 100 states\n",
    "actions = tf.random.uniform((32, 100, action_dim))\n",
    "\n",
    "\n",
    "# Get model predicitions\n",
    "output = dt(states, actions, training = True)\n",
    "print(output.shape)"
   ]
  }
 ],
 "metadata": {
  "kernelspec": {
   "display_name": "imb-ai-engineering-YFLZBaaa-py3.10",
   "language": "python",
   "name": "python3"
  },
  "language_info": {
   "codemirror_mode": {
    "name": "ipython",
    "version": 3
   },
   "file_extension": ".py",
   "mimetype": "text/x-python",
   "name": "python",
   "nbconvert_exporter": "python",
   "pygments_lexer": "ipython3",
   "version": "3.10.0"
  }
 },
 "nbformat": 4,
 "nbformat_minor": 5
}
